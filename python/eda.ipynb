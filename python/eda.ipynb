{
 "cells": [
  {
   "cell_type": "markdown",
   "id": "0dbfe8bd",
   "metadata": {},
   "source": [
    "Análisis de ventas ecommerce y su relación con el PIB per cápita"
   ]
  },
  {
   "cell_type": "code",
   "execution_count": null,
   "id": "1991f7f0",
   "metadata": {},
   "outputs": [],
   "source": [
    "#--------------------------------------------------------\n",
    "#1. IMPORTACIÓN LIBRERIAS\n",
    "#--------------------------------------------------------\n",
    "import pandas as pd\n",
    "import numpy as np"
   ]
  },
  {
   "cell_type": "code",
   "execution_count": 3,
   "id": "eada088b",
   "metadata": {},
   "outputs": [],
   "source": [
    "#-------------------------------------------------------\n",
    "#2. CARGA DE DATOS\n",
    "#-------------------------------------------------------\n",
    "#Dataset ecommerce\n",
    "df_sales = pd.read_csv(\"../datos/original/OnlineRetail.csv\", encoding=\"latin1\")\n",
    "#Dataset World Development Indicators\n",
    "df_indicators= pd.read_csv(\"../datos/original/Indicators.csv\")"
   ]
  },
  {
   "cell_type": "code",
   "execution_count": 33,
   "id": "457d5f30",
   "metadata": {},
   "outputs": [
    {
     "name": "stdout",
     "output_type": "stream",
     "text": [
      "  InvoiceNo StockCode                          Description  Quantity  \\\n",
      "0    536365    85123A   WHITE HANGING HEART T-LIGHT HOLDER         6   \n",
      "1    536365     71053                  WHITE METAL LANTERN         6   \n",
      "2    536365    84406B       CREAM CUPID HEARTS COAT HANGER         8   \n",
      "3    536365    84029G  KNITTED UNION FLAG HOT WATER BOTTLE         6   \n",
      "4    536365    84029E       RED WOOLLY HOTTIE WHITE HEART.         6   \n",
      "\n",
      "          InvoiceDate  UnitPrice  CustomerID         Country  TotalSales  \\\n",
      "0 2010-12-01 08:26:00       2.55     17850.0  United Kingdom       15.30   \n",
      "1 2010-12-01 08:26:00       3.39     17850.0  United Kingdom       20.34   \n",
      "2 2010-12-01 08:26:00       2.75     17850.0  United Kingdom       22.00   \n",
      "3 2010-12-01 08:26:00       3.39     17850.0  United Kingdom       20.34   \n",
      "4 2010-12-01 08:26:00       3.39     17850.0  United Kingdom       20.34   \n",
      "\n",
      "   Year  ...  Day  Weekday  IsWeekend  IsHighValue  DescriptionLength  \\\n",
      "0  2010  ...    1        2          0            0                 34   \n",
      "1  2010  ...    1        2          0            1                 19   \n",
      "2  2010  ...    1        2          0            1                 30   \n",
      "3  2010  ...    1        2          0            1                 35   \n",
      "4  2010  ...    1        2          0            1                 30   \n",
      "\n",
      "   Qty_x_Price  Qty_Squared  Log_UnitPrice  Month_x_Day  IsLowValue  \n",
      "0        15.30           36       1.266948           12           0  \n",
      "1        20.34           36       1.479329           12           0  \n",
      "2        22.00           64       1.321756           12           0  \n",
      "3        20.34           36       1.479329           12           0  \n",
      "4        20.34           36       1.479329           12           0  \n",
      "\n",
      "[5 rows x 21 columns]\n",
      "(401604, 21)\n",
      "0         15.30\n",
      "1         20.34\n",
      "2         22.00\n",
      "3         20.34\n",
      "4         20.34\n",
      "          ...  \n",
      "541904    10.20\n",
      "541905    12.60\n",
      "541906    16.60\n",
      "541907    16.60\n",
      "541908    14.85\n",
      "Name: TotalSales, Length: 401604, dtype: float64\n",
      "Ecommerce limpio: 401,604 filas y 21 columnas\n",
      "Exportado ecommerce_limpio.csv con 401,604 filas y 21 columnas\n"
     ]
    }
   ],
   "source": [
    "# -----------------------------------------------------\n",
    "# 2. LIMPIEZA DATASET ECOMMERCE\n",
    "# -----------------------------------------------------\n",
    "df_sales.dropna(inplace=True)\n",
    "df_sales.drop_duplicates(inplace=True)\n",
    "\n",
    "#Mostrar primeras filas para examinar el contenido del fichero excel\n",
    "print(df_sales.head())\n",
    "print(df_sales.shape)\n",
    "\n",
    "#Calculamos totales\n",
    "df_sales['TotalSales']=df_sales['Quantity']*df_sales['UnitPrice']\n",
    "print(df_sales['TotalSales'])\n",
    "\n",
    "# Convertimos InvoiceDate a datetime\n",
    "df_sales['InvoiceDate'] = pd.to_datetime(df_sales['InvoiceDate'], errors='coerce')\n",
    "\n",
    "# Fechas\n",
    "df_sales['Year'] = df_sales['InvoiceDate'].dt.year\n",
    "df_sales['Month'] = df_sales['InvoiceDate'].dt.month\n",
    "df_sales['Day'] = df_sales['InvoiceDate'].dt.day\n",
    "df_sales['Weekday'] = df_sales['InvoiceDate'].dt.weekday\n",
    "df_sales['IsWeekend'] = np.where(df_sales['Weekday'] >= 5, 1, 0)\n",
    "\n",
    "# Indicadores\n",
    "threshold = df_sales['TotalSales'].quantile(0.75)\n",
    "df_sales['IsHighValue'] = np.where(df_sales['TotalSales'] > threshold, 1, 0)\n",
    "df_sales['DescriptionLength'] = df_sales['Description'].str.len()\n",
    "df_sales['Qty_x_Price'] = df_sales['Quantity'] * df_sales['UnitPrice']\n",
    "df_sales['Qty_Squared'] = df_sales['Quantity'] ** 2\n",
    "df_sales['Log_UnitPrice'] = np.log1p(df_sales['UnitPrice'])\n",
    "df_sales['Month_x_Day'] = df_sales['Month'] * df_sales['Day']\n",
    "df_sales['IsLowValue'] = np.where(df_sales['TotalSales'] < df_sales['TotalSales'].quantile(0.25), 1, 0)\n",
    "\n",
    "print(f\"Ecommerce limpio: {df_sales.shape[0]:,} filas y {df_sales.shape[1]} columnas\")\n",
    "\n",
    "# -----------------------------------------------------------\n",
    "#Exportamos el dataset ecommerce limpio \n",
    "# -----------------------------------------------------------\n",
    "df_sales.to_csv(\"../datos/procesado/ecommerce_limpio.csv\",index=False, float_format='%.2f', sep=';', decimal='.')\n",
    "print(f\"Exportado ecommerce_limpio.csv con {df_sales.shape[0]:,} filas y {df_sales.shape[1]} columnas\")\n"
   ]
  },
  {
   "cell_type": "code",
   "execution_count": 34,
   "id": "beea18dd",
   "metadata": {},
   "outputs": [
    {
     "name": "stdout",
     "output_type": "stream",
     "text": [
      "GDP limpio: 10,151 filas\n",
      "Exportado indicators_limpio.csv con 401,604 filas y 21 columnas\n"
     ]
    }
   ],
   "source": [
    "# --------------------------------------------------\n",
    "# 3. LIMPIEZA DATASET INDICADORES\n",
    "# --------------------------------------------------\n",
    "# Filtramos solo GDP per capita\n",
    "df_gdp = df_indicators[df_indicators['IndicatorCode'] == 'NY.GDP.PCAP.CD']\n",
    "\n",
    "# Nos quedamos con columnas clave\n",
    "df_gdp = df_gdp[['CountryName', 'Year', 'Value']]\n",
    "df_gdp.rename(columns={\n",
    "    'CountryName': 'Country',\n",
    "    'Value': 'GDP_per_capita'\n",
    "}, inplace=True)\n",
    "\n",
    "# Limpiamos\n",
    "df_gdp.dropna(inplace=True)\n",
    "df_gdp.drop_duplicates(inplace=True)\n",
    "df_gdp = df_gdp[df_gdp['GDP_per_capita'] > 100]\n",
    "\n",
    "print(f\"GDP limpio: {df_gdp.shape[0]:,} filas\")\n",
    "\n",
    "# -----------------------------------------------------------\n",
    "#Exportamos dataset de indicators limpio\n",
    "# -----------------------------------------------------------\n",
    "df_gdp.to_csv(\"../datos/procesado/indicators_limpio.csv\",index=False, float_format='%.2f', sep=';', decimal='.')\n",
    "print(f\"Exportado indicators_limpio.csv con {df_sales.shape[0]:,} filas y {df_sales.shape[1]} columnas\")\n",
    "\n"
   ]
  },
  {
   "cell_type": "code",
   "execution_count": 35,
   "id": "3ab9b8be",
   "metadata": {},
   "outputs": [
    {
     "name": "stdout",
     "output_type": "stream",
     "text": [
      "Dataset final tras la fusión: 401,604 filas y 22 columnas\n"
     ]
    }
   ],
   "source": [
    "# ------------------------------------------------------\n",
    "# 5. COMBINACIÓN FINAL SIN AGRUPAR PARA MANTENER +50.000 FILAS\n",
    "# ------------------------------------------------------\n",
    "# Normalizamos nombres\n",
    "df_sales['Country'] = df_sales['Country'].str.strip()\n",
    "df_gdp['Country'] = df_gdp['Country'].str.strip()\n",
    "\n",
    "# Combinamos por Country y Year\n",
    "df_final = pd.merge(df_sales, df_gdp, on=['Country', 'Year'], how='left')\n",
    "\n",
    "print(f\"Dataset final tras la fusión: {df_final.shape[0]:,} filas y {df_final.shape[1]} columnas\")\n"
   ]
  },
  {
   "cell_type": "code",
   "execution_count": null,
   "id": "a45c3d9b",
   "metadata": {},
   "outputs": [
    {
     "name": "stdout",
     "output_type": "stream",
     "text": [
      "Exportado ecommerce_indicators_final.csv \n"
     ]
    }
   ],
   "source": [
    "# ------------------------------------------------------\n",
    "# 6. EXPORTACIÓN FINAL DEL CONJUNTO DE DATOS FUSIONADO\n",
    "# ------------------------------------------------------\n",
    "\n",
    "print(\"Exportado ecommerce_indicators_final.csv \")\n",
    "df_final.to_csv(\"../datos/procesado/ecommerce_indicators_final.csv\",\n",
    "                index=False,\n",
    "                sep=';',\n",
    "                decimal=',',\n",
    "                float_format='%.5f')\n",
    "\n"
   ]
  },
  {
   "cell_type": "code",
   "execution_count": 28,
   "id": "58199b21",
   "metadata": {},
   "outputs": [
    {
     "name": "stdout",
     "output_type": "stream",
     "text": [
      "Estadísticas descriptivas generales:\n",
      "            Quantity                    InvoiceDate      UnitPrice  \\\n",
      "count  401604.000000                         401604  401604.000000   \n",
      "mean       12.183273  2011-07-10 12:08:23.848567552       3.474064   \n",
      "min    -80995.000000            2010-12-01 08:26:00       0.000000   \n",
      "25%         2.000000            2011-04-06 15:02:00       1.250000   \n",
      "50%         5.000000            2011-07-29 15:40:00       1.950000   \n",
      "75%        12.000000            2011-10-20 11:58:30       3.750000   \n",
      "max     80995.000000            2011-12-09 12:50:00   38970.000000   \n",
      "std       250.283037                            NaN      69.764035   \n",
      "\n",
      "          CustomerID     TotalSales           Year          Month  \\\n",
      "count  401604.000000  401604.000000  401604.000000  401604.000000   \n",
      "mean    15281.160818      20.613638    2010.934378       7.595407   \n",
      "min     12346.000000 -168469.600000    2010.000000       1.000000   \n",
      "25%     13939.000000       4.250000    2011.000000       5.000000   \n",
      "50%     15145.000000      11.700000    2011.000000       8.000000   \n",
      "75%     16784.000000      19.800000    2011.000000      11.000000   \n",
      "max     18287.000000  168469.600000    2011.000000      12.000000   \n",
      "std      1714.006089     430.352218       0.247620       3.417451   \n",
      "\n",
      "                 Day        Weekday      IsWeekend    IsHighValue  \\\n",
      "count  401604.000000  401604.000000  401604.000000  401604.000000   \n",
      "mean       15.038623       2.598811       0.153567       0.231307   \n",
      "min         1.000000       0.000000       0.000000       0.000000   \n",
      "25%         7.000000       1.000000       0.000000       0.000000   \n",
      "50%        15.000000       2.000000       0.000000       0.000000   \n",
      "75%        22.000000       4.000000       0.000000       0.000000   \n",
      "max        31.000000       6.000000       1.000000       1.000000   \n",
      "std         8.652640       1.917504       0.360533       0.421669   \n",
      "\n",
      "       DescriptionLength    Qty_x_Price   Qty_Squared  Log_UnitPrice  \\\n",
      "count      401604.000000  401604.000000  4.016040e+05  401604.000000   \n",
      "mean           26.657994      20.613638  6.278987e+04       1.163042   \n",
      "min             6.000000 -168469.600000  1.000000e+00       0.000000   \n",
      "25%            23.000000       4.250000  4.000000e+00       0.810930   \n",
      "50%            27.000000      11.700000  3.600000e+01       1.081805   \n",
      "75%            31.000000      19.800000  1.440000e+02       1.558145   \n",
      "max            35.000000  168469.600000  6.560190e+09      10.570573   \n",
      "std             5.389214     430.352218  1.911759e+07       0.611777   \n",
      "\n",
      "         Month_x_Day     IsLowValue  GDP_per_capita  \n",
      "count  401604.000000  401604.000000   392721.000000  \n",
      "mean      110.740593       0.247127    41469.824382  \n",
      "min         2.000000       0.000000     9132.434202  \n",
      "25%        42.000000       0.000000    41020.376964  \n",
      "50%        90.000000       0.000000    41020.376964  \n",
      "75%       170.000000       0.000000    41020.376964  \n",
      "max       330.000000       1.000000   100575.117263  \n",
      "std        83.319814       0.431341     5247.734457  \n",
      "\n",
      " Correlación entre GDP_per_capita y TotalSales:\n",
      "                GDP_per_capita  TotalSales\n",
      "GDP_per_capita        1.000000    0.008856\n",
      "TotalSales            0.008856    1.000000\n"
     ]
    },
    {
     "data": {
      "image/png": "[encoded data removed]",
      "text/plain": [
       "<Figure size 720x360 with 1 Axes>"
      ]
     },
     "metadata": {
      "needs_background": "light"
     },
     "output_type": "display_data"
    },
    {
     "data": {
      "image/png": "[encoded data removed]",
      "text/plain": [
       "<Figure size 720x360 with 1 Axes>"
      ]
     },
     "metadata": {
      "needs_background": "light"
     },
     "output_type": "display_data"
    },
    {
     "name": "stdout",
     "output_type": "stream",
     "text": [
      "\n",
      " Ticket medio y PIB per cápita promedio por país:\n",
      "           Country  TotalSales  GDP_per_capita\n",
      "0        Australia  108.910787    61936.252744\n",
      "1          Austria   25.322494    51023.378076\n",
      "2          Bahrain   32.258824    22238.711950\n",
      "3          Belgium   19.773301    47542.900583\n",
      "4           Brazil   35.737500    13042.421933\n",
      "5           Canada   24.280662    52086.533525\n",
      "6  Channel Islands   26.520991             NaN\n",
      "7           Cyprus   21.045434    31649.036886\n",
      "8   Czech Republic   23.590667    21656.941418\n",
      "9          Denmark   48.247147    61116.071876\n"
     ]
    }
   ],
   "source": [
    "# ================================================================\n",
    "# 7. ANÁLISIS DESCRIPTIVO Y ESTADÍSTICO DEL DATASET FINAL\n",
    "# ================================================================\n",
    "\n",
    "import matplotlib.pyplot as plt\n",
    "import seaborn as sns\n",
    "\n",
    "# -------------------------------------------\n",
    "# 1. Estadísticas descriptivas básicas\n",
    "# -------------------------------------------\n",
    "print(\"Estadísticas descriptivas generales:\")\n",
    "print(df_final.describe())\n",
    "\n",
    "# -------------------------------------------\n",
    "# 2. Correlación entre PIB per cápita y TotalSales\n",
    "# -------------------------------------------\n",
    "print(\"\\n Correlación entre GDP_per_capita y TotalSales:\")\n",
    "print(df_final[['GDP_per_capita', 'TotalSales']].corr())\n",
    "\n",
    "# -------------------------------------------\n",
    "# 3. Distribución de TotalSales\n",
    "# -------------------------------------------\n",
    "plt.figure(figsize=(10,5))\n",
    "sns.histplot(df_final['TotalSales'], bins=50, kde=True)\n",
    "plt.title(\"Distribución de TotalSales por línea de venta\")\n",
    "plt.xlabel(\"TotalSales (€)\")\n",
    "plt.ylabel(\"Frecuencia\")\n",
    "plt.show()\n",
    "\n",
    "# -------------------------------------------\n",
    "# 4. Distribución de GDP_per_capita\n",
    "# -------------------------------------------\n",
    "plt.figure(figsize=(10,5))\n",
    "sns.histplot(df_final['GDP_per_capita'], bins=50, kde=True)\n",
    "plt.title(\"Distribución PIB per cápita\")\n",
    "plt.xlabel(\"GDP_per_capita (USD)\")\n",
    "plt.ylabel(\"Frecuencia\")\n",
    "plt.show()\n",
    "\n",
    "# -------------------------------------------\n",
    "# 5. Groupby por país para obtener medias\n",
    "# -------------------------------------------\n",
    "df_grouped_country = df_final.groupby('Country').agg({\n",
    "    'TotalSales': 'mean',\n",
    "    'GDP_per_capita': 'mean'\n",
    "}).reset_index()\n",
    "\n",
    "print(\"\\n Ticket medio y PIB per cápita promedio por país:\")\n",
    "print(df_grouped_country.head(10))\n"
   ]
  }
 ],
 "metadata": {
  "kernelspec": {
   "display_name": "Python 3",
   "language": "python",
   "name": "python3"
  },
  "language_info": {
   "codemirror_mode": {
    "name": "ipython",
    "version": 3
   },
   "file_extension": ".py",
   "mimetype": "text/x-python",
   "name": "python",
   "nbconvert_exporter": "python",
   "pygments_lexer": "ipython3",
   "version": "3.9.2"
  }
 },
 "nbformat": 4,
 "nbformat_minor": 5
}
